{
 "cells": [
  {
   "cell_type": "code",
   "execution_count": 30,
   "metadata": {},
   "outputs": [],
   "source": [
    "from pymongo.mongo_client import MongoClient\n",
    "uri=  \"mongodb://localhost:27017/\"   # I have created a demo connection for you to understand. You can use your own.\n",
    "client = MongoClient(uri)"
   ]
  },
  {
   "cell_type": "code",
   "execution_count": 31,
   "metadata": {},
   "outputs": [],
   "source": [
    "database=client[\"mydatabase\"]"
   ]
  },
  {
   "cell_type": "code",
   "execution_count": 32,
   "metadata": {},
   "outputs": [],
   "source": [
    "collection =database[\"session\"]"
   ]
  },
  {
   "cell_type": "code",
   "execution_count": 38,
   "metadata": {},
   "outputs": [],
   "source": [
    "data={\n",
    "    \"name\":\"Madhurima\",\n",
    "    \"course\":\"MLOPs\",\n",
    "    \"Position\": \"Intern\"\n",
    "}"
   ]
  },
  {
   "cell_type": "code",
   "execution_count": 39,
   "metadata": {},
   "outputs": [
    {
     "data": {
      "text/plain": [
       "{'name': 'Madhurima', 'course': 'MLOPs', 'Position': 'Intern'}"
      ]
     },
     "execution_count": 39,
     "metadata": {},
     "output_type": "execute_result"
    }
   ],
   "source": [
    "data"
   ]
  },
  {
   "cell_type": "code",
   "execution_count": 40,
   "metadata": {},
   "outputs": [
    {
     "data": {
      "text/plain": [
       "<pymongo.results.InsertOneResult at 0x1ab0621ee80>"
      ]
     },
     "execution_count": 40,
     "metadata": {},
     "output_type": "execute_result"
    }
   ],
   "source": [
    "collection.insert_one(data)"
   ]
  },
  {
   "cell_type": "code",
   "execution_count": 41,
   "metadata": {},
   "outputs": [],
   "source": [
    "all_record=collection.find()"
   ]
  },
  {
   "cell_type": "code",
   "execution_count": 42,
   "metadata": {},
   "outputs": [
    {
     "name": "stdout",
     "output_type": "stream",
     "text": [
      "{'_id': ObjectId('65d827791aa272ffe4f1b174'), 'name': 'Madhurima', 'course': 'MLOPs', 'Designation': 'Intern'}\n",
      "{'_id': ObjectId('65d827cb1aa272ffe4f1b175'), 'name': 'Madhurima', 'course': 'MLOPs', 'Position': 'Intern'}\n"
     ]
    }
   ],
   "source": [
    "for record in all_record:\n",
    "    print(record)"
   ]
  },
  {
   "cell_type": "code",
   "execution_count": 43,
   "metadata": {},
   "outputs": [
    {
     "data": {
      "text/plain": [
       "<pymongo.results.InsertManyResult at 0x1ab0621fb40>"
      ]
     },
     "execution_count": 43,
     "metadata": {},
     "output_type": "execute_result"
    }
   ],
   "source": [
    "collection.insert_many(\n",
    "    [\n",
    "        {\n",
    "\n",
    "    \"name\":\"Bhuvana\",\n",
    "    \"course\":\"Backend Devloper\",\n",
    "    \"position\":\"Intern\"\n",
    "},\n",
    "\n",
    "{\n",
    "\n",
    "    \"name\":\"Aayush\",\n",
    "    \"course\":\"Full Stack Devloper\",\n",
    "    \"position\":\"Intern\"\n",
    "}\n",
    "        \n",
    "    ]\n",
    ")"
   ]
  },
  {
   "cell_type": "code",
   "execution_count": 44,
   "metadata": {},
   "outputs": [],
   "source": [
    "class mongodb_operation:\n",
    "\n",
    "    def __init__(self,client_url: str, database_name: str, collection_name: str=None):\n",
    "        self.client_url=client_url\n",
    "        self.database_name=database_name\n",
    "        self.collection_name=collection_name\n",
    "\n",
    "    def create_client(self):\n",
    "        client=MongoClient(self.client_url)\n",
    "        return client\n",
    "    def create_database(self):\n",
    "        client=self.create_client()\n",
    "        database=client[self.database_name]\n",
    "        return database\n",
    "        \n",
    "    def create_collection(self,collection=None):\n",
    "        database=self.create_database()\n",
    "        collection=database[collection]\n",
    "        return collection\n",
    "    def insert_record(self,record:dict,collection_name:str):\n",
    "        if type(record)==list:\n",
    "            for data in record:\n",
    "                if type(data)!= dict:\n",
    "                    raise TypeError(\"record must be in the dict\")\n",
    "            collection=self.create_collection(collection_name)\n",
    "            collection.insert_many(record)\n",
    "        elif type(record)==dict:\n",
    "            collection=self.create_collection(collection_name)\n",
    "            collection.insert_one(record)\n",
    "\n",
    "    def bulk_insert(self,datafile:str,collection_name:str=None):\n",
    "        self.path=datafile\n",
    "\n",
    "        if self.path.endswith('.csv'):\n",
    "            data=pd.read_csv(self.path,encoding='utf-8')\n",
    "\n",
    "        elif self.path.endswith('.xlsx'):\n",
    "            data=pd.read_excel(self.path,encoding='utf-8')\n",
    "            \n",
    "        datajson=json.loads(data.to_json(orient='record'))\n",
    "        collection=self.create_collection()\n",
    "        collection.insert_many(datajson)"
   ]
  },
  {
   "cell_type": "code",
   "execution_count": 45,
   "metadata": {},
   "outputs": [],
   "source": [
    "\n",
    "client_url =  \"mongodb://localhost:27017/\"   # I have created a demo connection for you to understand. You can use your own.\n",
    "database = \"newdatabase\"\n",
    "collection_name = \"testmadhurima\""
   ]
  },
  {
   "cell_type": "code",
   "execution_count": 46,
   "metadata": {},
   "outputs": [],
   "source": [
    "mongo=mongodb_operation(client_url,database,collection_name)"
   ]
  },
  {
   "cell_type": "code",
   "execution_count": 47,
   "metadata": {},
   "outputs": [],
   "source": [
    "mongo.insert_record({\"name\":\"sunny\",\"designation\":\"data scientist\",\"salary\":\"10k\"},collection_name)\n"
   ]
  },
  {
   "cell_type": "code",
   "execution_count": null,
   "metadata": {},
   "outputs": [],
   "source": [
    "mongo.insert_record([{\"name\":\"sunny\",\"designation\":\"data scientist\",\"salary\":\"10k\"},\n",
    "{\"name\":\"Ankit Kumar\",\"designation\":\"sr. data scientist\",\"salary\":\"150k\"},\n",
    "{\"name\":\"Ayush Behera\",\"designation\":\"Research and Devlopment lead\",\"salary\":\"70k\"}\n",
    "],collection_name)"
   ]
  }
 ],
 "metadata": {
  "kernelspec": {
   "display_name": "Python 3",
   "language": "python",
   "name": "python3"
  },
  "language_info": {
   "codemirror_mode": {
    "name": "ipython",
    "version": 3
   },
   "file_extension": ".py",
   "mimetype": "text/x-python",
   "name": "python",
   "nbconvert_exporter": "python",
   "pygments_lexer": "ipython3",
   "version": "3.12.2"
  }
 },
 "nbformat": 4,
 "nbformat_minor": 2
}
